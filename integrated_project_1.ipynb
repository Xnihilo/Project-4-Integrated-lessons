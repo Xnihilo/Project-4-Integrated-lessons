{
 "cells": [
  {
   "cell_type": "markdown",
   "metadata": {},
   "source": [
    "## Review (2)\n",
    "\n",
    "Thank you for update. Things were fixed.\n",
    "\n",
    "---"
   ]
  },
  {
   "cell_type": "markdown",
   "metadata": {},
   "source": [
    "## Review\n",
    "\n",
    "Hi Raymond. This is Soslan and our third project together. As always I've added all my comments to new cells with different coloring.\n",
    "\n",
    "<div class=\"alert alert-success\" role=\"alert\">\n",
    "  If you did something great I'm using green color for my comment\n",
    "</div>\n",
    "\n",
    "<div class=\"alert alert-warning\" role=\"alert\">\n",
    "If I want to give you advice or think that something can be improved, then I'll use yellow. This is an optional recommendation.\n",
    "</div>\n",
    "\n",
    "<div class=\"alert alert-danger\" role=\"alert\">\n",
    "  If the topic requires some extra work so I can accept it then the color will be red\n",
    "</div>\n",
    "\n",
    "Your project is of good quality. Your code is correct but as I see you don't interpret one of the hypotheses testings correctly. Actually you need to change one word and then I can accept your project. It is always a good idea to write explicitly null and alternate hypotheses.\n",
    "\n",
    "---"
   ]
  },
  {
   "cell_type": "markdown",
   "metadata": {},
   "source": [
    "# Step 1. Open the data file and study the general information"
   ]
  },
  {
   "cell_type": "code",
   "execution_count": 1,
   "metadata": {},
   "outputs": [
    {
     "name": "stdout",
     "output_type": "stream",
     "text": [
      "<class 'pandas.core.frame.DataFrame'>\n",
      "RangeIndex: 16715 entries, 0 to 16714\n",
      "Data columns (total 11 columns):\n",
      "Name               16713 non-null object\n",
      "Platform           16715 non-null object\n",
      "Year_of_Release    16446 non-null float64\n",
      "Genre              16713 non-null object\n",
      "NA_sales           16715 non-null float64\n",
      "EU_sales           16715 non-null float64\n",
      "JP_sales           16715 non-null float64\n",
      "Other_sales        16715 non-null float64\n",
      "Critic_Score       8137 non-null float64\n",
      "User_Score         10014 non-null object\n",
      "Rating             9949 non-null object\n",
      "dtypes: float64(6), object(5)\n",
      "memory usage: 1.4+ MB\n",
      "None\n"
     ]
    },
    {
     "data": {
      "text/html": [
       "<div>\n",
       "<style scoped>\n",
       "    .dataframe tbody tr th:only-of-type {\n",
       "        vertical-align: middle;\n",
       "    }\n",
       "\n",
       "    .dataframe tbody tr th {\n",
       "        vertical-align: top;\n",
       "    }\n",
       "\n",
       "    .dataframe thead th {\n",
       "        text-align: right;\n",
       "    }\n",
       "</style>\n",
       "<table border=\"1\" class=\"dataframe\">\n",
       "  <thead>\n",
       "    <tr style=\"text-align: right;\">\n",
       "      <th></th>\n",
       "      <th>Name</th>\n",
       "      <th>Platform</th>\n",
       "      <th>Year_of_Release</th>\n",
       "      <th>Genre</th>\n",
       "      <th>NA_sales</th>\n",
       "      <th>EU_sales</th>\n",
       "      <th>JP_sales</th>\n",
       "      <th>Other_sales</th>\n",
       "      <th>Critic_Score</th>\n",
       "      <th>User_Score</th>\n",
       "      <th>Rating</th>\n",
       "    </tr>\n",
       "  </thead>\n",
       "  <tbody>\n",
       "    <tr>\n",
       "      <td>0</td>\n",
       "      <td>Wii Sports</td>\n",
       "      <td>Wii</td>\n",
       "      <td>2006.0</td>\n",
       "      <td>Sports</td>\n",
       "      <td>41.36</td>\n",
       "      <td>28.96</td>\n",
       "      <td>3.77</td>\n",
       "      <td>8.45</td>\n",
       "      <td>76.0</td>\n",
       "      <td>8</td>\n",
       "      <td>E</td>\n",
       "    </tr>\n",
       "    <tr>\n",
       "      <td>1</td>\n",
       "      <td>Super Mario Bros.</td>\n",
       "      <td>NES</td>\n",
       "      <td>1985.0</td>\n",
       "      <td>Platform</td>\n",
       "      <td>29.08</td>\n",
       "      <td>3.58</td>\n",
       "      <td>6.81</td>\n",
       "      <td>0.77</td>\n",
       "      <td>NaN</td>\n",
       "      <td>NaN</td>\n",
       "      <td>NaN</td>\n",
       "    </tr>\n",
       "    <tr>\n",
       "      <td>2</td>\n",
       "      <td>Mario Kart Wii</td>\n",
       "      <td>Wii</td>\n",
       "      <td>2008.0</td>\n",
       "      <td>Racing</td>\n",
       "      <td>15.68</td>\n",
       "      <td>12.76</td>\n",
       "      <td>3.79</td>\n",
       "      <td>3.29</td>\n",
       "      <td>82.0</td>\n",
       "      <td>8.3</td>\n",
       "      <td>E</td>\n",
       "    </tr>\n",
       "    <tr>\n",
       "      <td>3</td>\n",
       "      <td>Wii Sports Resort</td>\n",
       "      <td>Wii</td>\n",
       "      <td>2009.0</td>\n",
       "      <td>Sports</td>\n",
       "      <td>15.61</td>\n",
       "      <td>10.93</td>\n",
       "      <td>3.28</td>\n",
       "      <td>2.95</td>\n",
       "      <td>80.0</td>\n",
       "      <td>8</td>\n",
       "      <td>E</td>\n",
       "    </tr>\n",
       "    <tr>\n",
       "      <td>4</td>\n",
       "      <td>Pokemon Red/Pokemon Blue</td>\n",
       "      <td>GB</td>\n",
       "      <td>1996.0</td>\n",
       "      <td>Role-Playing</td>\n",
       "      <td>11.27</td>\n",
       "      <td>8.89</td>\n",
       "      <td>10.22</td>\n",
       "      <td>1.00</td>\n",
       "      <td>NaN</td>\n",
       "      <td>NaN</td>\n",
       "      <td>NaN</td>\n",
       "    </tr>\n",
       "    <tr>\n",
       "      <td>...</td>\n",
       "      <td>...</td>\n",
       "      <td>...</td>\n",
       "      <td>...</td>\n",
       "      <td>...</td>\n",
       "      <td>...</td>\n",
       "      <td>...</td>\n",
       "      <td>...</td>\n",
       "      <td>...</td>\n",
       "      <td>...</td>\n",
       "      <td>...</td>\n",
       "      <td>...</td>\n",
       "    </tr>\n",
       "    <tr>\n",
       "      <td>16710</td>\n",
       "      <td>Samurai Warriors: Sanada Maru</td>\n",
       "      <td>PS3</td>\n",
       "      <td>2016.0</td>\n",
       "      <td>Action</td>\n",
       "      <td>0.00</td>\n",
       "      <td>0.00</td>\n",
       "      <td>0.01</td>\n",
       "      <td>0.00</td>\n",
       "      <td>NaN</td>\n",
       "      <td>NaN</td>\n",
       "      <td>NaN</td>\n",
       "    </tr>\n",
       "    <tr>\n",
       "      <td>16711</td>\n",
       "      <td>LMA Manager 2007</td>\n",
       "      <td>X360</td>\n",
       "      <td>2006.0</td>\n",
       "      <td>Sports</td>\n",
       "      <td>0.00</td>\n",
       "      <td>0.01</td>\n",
       "      <td>0.00</td>\n",
       "      <td>0.00</td>\n",
       "      <td>NaN</td>\n",
       "      <td>NaN</td>\n",
       "      <td>NaN</td>\n",
       "    </tr>\n",
       "    <tr>\n",
       "      <td>16712</td>\n",
       "      <td>Haitaka no Psychedelica</td>\n",
       "      <td>PSV</td>\n",
       "      <td>2016.0</td>\n",
       "      <td>Adventure</td>\n",
       "      <td>0.00</td>\n",
       "      <td>0.00</td>\n",
       "      <td>0.01</td>\n",
       "      <td>0.00</td>\n",
       "      <td>NaN</td>\n",
       "      <td>NaN</td>\n",
       "      <td>NaN</td>\n",
       "    </tr>\n",
       "    <tr>\n",
       "      <td>16713</td>\n",
       "      <td>Spirits &amp; Spells</td>\n",
       "      <td>GBA</td>\n",
       "      <td>2003.0</td>\n",
       "      <td>Platform</td>\n",
       "      <td>0.01</td>\n",
       "      <td>0.00</td>\n",
       "      <td>0.00</td>\n",
       "      <td>0.00</td>\n",
       "      <td>NaN</td>\n",
       "      <td>NaN</td>\n",
       "      <td>NaN</td>\n",
       "    </tr>\n",
       "    <tr>\n",
       "      <td>16714</td>\n",
       "      <td>Winning Post 8 2016</td>\n",
       "      <td>PSV</td>\n",
       "      <td>2016.0</td>\n",
       "      <td>Simulation</td>\n",
       "      <td>0.00</td>\n",
       "      <td>0.00</td>\n",
       "      <td>0.01</td>\n",
       "      <td>0.00</td>\n",
       "      <td>NaN</td>\n",
       "      <td>NaN</td>\n",
       "      <td>NaN</td>\n",
       "    </tr>\n",
       "  </tbody>\n",
       "</table>\n",
       "<p>16715 rows × 11 columns</p>\n",
       "</div>"
      ],
      "text/plain": [
       "                                Name Platform  Year_of_Release         Genre  \\\n",
       "0                         Wii Sports      Wii           2006.0        Sports   \n",
       "1                  Super Mario Bros.      NES           1985.0      Platform   \n",
       "2                     Mario Kart Wii      Wii           2008.0        Racing   \n",
       "3                  Wii Sports Resort      Wii           2009.0        Sports   \n",
       "4           Pokemon Red/Pokemon Blue       GB           1996.0  Role-Playing   \n",
       "...                              ...      ...              ...           ...   \n",
       "16710  Samurai Warriors: Sanada Maru      PS3           2016.0        Action   \n",
       "16711               LMA Manager 2007     X360           2006.0        Sports   \n",
       "16712        Haitaka no Psychedelica      PSV           2016.0     Adventure   \n",
       "16713               Spirits & Spells      GBA           2003.0      Platform   \n",
       "16714            Winning Post 8 2016      PSV           2016.0    Simulation   \n",
       "\n",
       "       NA_sales  EU_sales  JP_sales  Other_sales  Critic_Score User_Score  \\\n",
       "0         41.36     28.96      3.77         8.45          76.0          8   \n",
       "1         29.08      3.58      6.81         0.77           NaN        NaN   \n",
       "2         15.68     12.76      3.79         3.29          82.0        8.3   \n",
       "3         15.61     10.93      3.28         2.95          80.0          8   \n",
       "4         11.27      8.89     10.22         1.00           NaN        NaN   \n",
       "...         ...       ...       ...          ...           ...        ...   \n",
       "16710      0.00      0.00      0.01         0.00           NaN        NaN   \n",
       "16711      0.00      0.01      0.00         0.00           NaN        NaN   \n",
       "16712      0.00      0.00      0.01         0.00           NaN        NaN   \n",
       "16713      0.01      0.00      0.00         0.00           NaN        NaN   \n",
       "16714      0.00      0.00      0.01         0.00           NaN        NaN   \n",
       "\n",
       "      Rating  \n",
       "0          E  \n",
       "1        NaN  \n",
       "2          E  \n",
       "3          E  \n",
       "4        NaN  \n",
       "...      ...  \n",
       "16710    NaN  \n",
       "16711    NaN  \n",
       "16712    NaN  \n",
       "16713    NaN  \n",
       "16714    NaN  \n",
       "\n",
       "[16715 rows x 11 columns]"
      ]
     },
     "execution_count": 1,
     "metadata": {},
     "output_type": "execute_result"
    }
   ],
   "source": [
    "import pandas as pd\n",
    "from scipy import stats as st\n",
    "\n",
    "game_data = pd.read_csv('/datasets/games.csv')\n",
    "\n",
    "#Open and view data\n",
    "print(game_data.info())\n",
    "game_data"
   ]
  },
  {
   "cell_type": "markdown",
   "metadata": {},
   "source": [
    "# Step 2. Prepare the data"
   ]
  },
  {
   "cell_type": "code",
   "execution_count": 2,
   "metadata": {},
   "outputs": [
    {
     "data": {
      "text/plain": [
       "Index(['name', 'platform', 'year_of_release', 'genre', 'na_sales', 'eu_sales',\n",
       "       'jp_sales', 'other_sales', 'critic_score', 'user_score', 'rating'],\n",
       "      dtype='object')"
      ]
     },
     "execution_count": 2,
     "metadata": {},
     "output_type": "execute_result"
    }
   ],
   "source": [
    "#Format column names to lowercase\n",
    "game_data.columns = game_data.columns.str.lower()\n",
    "\n",
    "#View changes\n",
    "game_data.columns"
   ]
  },
  {
   "cell_type": "code",
   "execution_count": 3,
   "metadata": {},
   "outputs": [
    {
     "name": "stdout",
     "output_type": "stream",
     "text": [
      "<class 'pandas.core.frame.DataFrame'>\n",
      "RangeIndex: 16715 entries, 0 to 16714\n",
      "Data columns (total 11 columns):\n",
      "name               16713 non-null object\n",
      "platform           16715 non-null object\n",
      "year_of_release    16715 non-null int64\n",
      "genre              16713 non-null object\n",
      "na_sales           16715 non-null float64\n",
      "eu_sales           16715 non-null float64\n",
      "jp_sales           16715 non-null float64\n",
      "other_sales        16715 non-null float64\n",
      "critic_score       8137 non-null float64\n",
      "user_score         10014 non-null object\n",
      "rating             9949 non-null object\n",
      "dtypes: float64(5), int64(1), object(5)\n",
      "memory usage: 1.4+ MB\n",
      "None\n"
     ]
    }
   ],
   "source": [
    "#Convert the data to the required types.\n",
    "game_data['year_of_release'] = game_data['year_of_release'].fillna(0)\n",
    "game_data['year_of_release'] = game_data['year_of_release'].astype('int')\n",
    "\n",
    "#View changes\n",
    "print(game_data.info())"
   ]
  },
  {
   "cell_type": "markdown",
   "metadata": {},
   "source": [
    "I decided to fill in the missing years with 0 since there isn't an easy way to determine the values."
   ]
  },
  {
   "cell_type": "code",
   "execution_count": 4,
   "metadata": {},
   "outputs": [
    {
     "name": "stdout",
     "output_type": "stream",
     "text": [
      "      name platform  year_of_release genre  na_sales  eu_sales  jp_sales  \\\n",
      "659    NaN      GEN             1993   NaN      1.78      0.53      0.00   \n",
      "14244  NaN      GEN             1993   NaN      0.00      0.00      0.03   \n",
      "\n",
      "       other_sales  critic_score user_score rating  \n",
      "659           0.08           NaN        NaN    NaN  \n",
      "14244         0.00           NaN        NaN    NaN  \n"
     ]
    },
    {
     "data": {
      "text/html": [
       "<div>\n",
       "<style scoped>\n",
       "    .dataframe tbody tr th:only-of-type {\n",
       "        vertical-align: middle;\n",
       "    }\n",
       "\n",
       "    .dataframe tbody tr th {\n",
       "        vertical-align: top;\n",
       "    }\n",
       "\n",
       "    .dataframe thead th {\n",
       "        text-align: right;\n",
       "    }\n",
       "</style>\n",
       "<table border=\"1\" class=\"dataframe\">\n",
       "  <thead>\n",
       "    <tr style=\"text-align: right;\">\n",
       "      <th></th>\n",
       "      <th>name</th>\n",
       "      <th>platform</th>\n",
       "      <th>year_of_release</th>\n",
       "      <th>genre</th>\n",
       "      <th>na_sales</th>\n",
       "      <th>eu_sales</th>\n",
       "      <th>jp_sales</th>\n",
       "      <th>other_sales</th>\n",
       "      <th>critic_score</th>\n",
       "      <th>user_score</th>\n",
       "      <th>rating</th>\n",
       "    </tr>\n",
       "  </thead>\n",
       "  <tbody>\n",
       "  </tbody>\n",
       "</table>\n",
       "</div>"
      ],
      "text/plain": [
       "Empty DataFrame\n",
       "Columns: [name, platform, year_of_release, genre, na_sales, eu_sales, jp_sales, other_sales, critic_score, user_score, rating]\n",
       "Index: []"
      ]
     },
     "execution_count": 4,
     "metadata": {},
     "output_type": "execute_result"
    }
   ],
   "source": [
    "#Check the rows with no game name given\n",
    "print(game_data[game_data['name'].isnull()].head())\n",
    "\n",
    "#Remove the rows with insufficient data\n",
    "game_data = game_data.drop([659, 14244])\n",
    "\n",
    "#Check that those rows are gone\n",
    "game_data[game_data['name'].isnull()].head()"
   ]
  },
  {
   "cell_type": "markdown",
   "metadata": {},
   "source": [
    "Since the 2 rows didn't have significant data, I decided to remove them all together."
   ]
  },
  {
   "cell_type": "code",
   "execution_count": 5,
   "metadata": {},
   "outputs": [
    {
     "name": "stdout",
     "output_type": "stream",
     "text": [
      "Empty DataFrame\n",
      "Columns: [name, platform, year_of_release, genre, na_sales, eu_sales, jp_sales, other_sales, critic_score, user_score, rating]\n",
      "Index: []\n",
      "Empty DataFrame\n",
      "Columns: [name, platform, year_of_release, genre, na_sales, eu_sales, jp_sales, other_sales, critic_score, user_score, rating]\n",
      "Index: []\n"
     ]
    }
   ],
   "source": [
    "#Fill in the missing critic and user scores with none\n",
    "game_data['critic_score'] = game_data['critic_score'].fillna(0)\n",
    "game_data['user_score'] = game_data['user_score'].fillna(0)\n",
    "\n",
    "#Check that there are no missing scores\n",
    "print(game_data[game_data['critic_score'].isnull()].head())\n",
    "print(game_data[game_data['user_score'].isnull()].head())"
   ]
  },
  {
   "cell_type": "markdown",
   "metadata": {},
   "source": [
    "I think there are missing scores due to lack of people playing the game overall and thus no score was assigned.\n",
    "Since there isn't an easy way to decide upon the missings scores, I decided to have 0 fill in to better analyze the data."
   ]
  },
  {
   "cell_type": "code",
   "execution_count": 6,
   "metadata": {},
   "outputs": [
    {
     "name": "stdout",
     "output_type": "stream",
     "text": [
      "Empty DataFrame\n",
      "Columns: [name, platform, year_of_release, genre, na_sales, eu_sales, jp_sales, other_sales, critic_score, user_score, rating]\n",
      "Index: []\n"
     ]
    }
   ],
   "source": [
    "#Fill in missing ratings with an empty string\n",
    "game_data['rating'] = game_data['rating'].fillna('')\n",
    "\n",
    "#Check that there are no missing ratings\n",
    "print(game_data[game_data['rating'].isnull()].head())"
   ]
  },
  {
   "cell_type": "markdown",
   "metadata": {},
   "source": [
    "I think the data is missing here due to input error.\n",
    "Since there isn't an easy way to obtain the missing ratings, I chose to fill in the missing ratings with a blank string to better analyze the rest of the data."
   ]
  },
  {
   "cell_type": "code",
   "execution_count": 7,
   "metadata": {},
   "outputs": [
    {
     "name": "stdout",
     "output_type": "stream",
     "text": [
      "<class 'pandas.core.frame.DataFrame'>\n",
      "Int64Index: 16713 entries, 0 to 16714\n",
      "Data columns (total 11 columns):\n",
      "name               16713 non-null object\n",
      "platform           16713 non-null object\n",
      "year_of_release    16713 non-null int64\n",
      "genre              16713 non-null object\n",
      "na_sales           16713 non-null float64\n",
      "eu_sales           16713 non-null float64\n",
      "jp_sales           16713 non-null float64\n",
      "other_sales        16713 non-null float64\n",
      "critic_score       16713 non-null float64\n",
      "user_score         16713 non-null float64\n",
      "rating             16713 non-null object\n",
      "dtypes: float64(6), int64(1), object(4)\n",
      "memory usage: 1.5+ MB\n"
     ]
    }
   ],
   "source": [
    "#Change tbd in user_score to be 0\n",
    "game_data.loc[game_data['user_score'] == 'tbd', 'user_score'] = 0\n",
    "\n",
    "#Change user_score into float\n",
    "game_data['user_score'] = game_data['user_score'].astype(float)\n",
    "\n",
    "#Check changes\n",
    "game_data.info()"
   ]
  },
  {
   "cell_type": "markdown",
   "metadata": {},
   "source": [
    "<div class=\"alert alert-success\" role=\"alert\">\n",
    "Good work with missed values. You could also convert critic_score to int.</div>"
   ]
  },
  {
   "cell_type": "markdown",
   "metadata": {},
   "source": [
    "I chose to replace tbd with 0 in order to better analyze the rest of the data."
   ]
  },
  {
   "cell_type": "code",
   "execution_count": 8,
   "metadata": {},
   "outputs": [
    {
     "data": {
      "text/html": [
       "<div>\n",
       "<style scoped>\n",
       "    .dataframe tbody tr th:only-of-type {\n",
       "        vertical-align: middle;\n",
       "    }\n",
       "\n",
       "    .dataframe tbody tr th {\n",
       "        vertical-align: top;\n",
       "    }\n",
       "\n",
       "    .dataframe thead th {\n",
       "        text-align: right;\n",
       "    }\n",
       "</style>\n",
       "<table border=\"1\" class=\"dataframe\">\n",
       "  <thead>\n",
       "    <tr style=\"text-align: right;\">\n",
       "      <th></th>\n",
       "      <th>name</th>\n",
       "      <th>platform</th>\n",
       "      <th>year_of_release</th>\n",
       "      <th>genre</th>\n",
       "      <th>na_sales</th>\n",
       "      <th>eu_sales</th>\n",
       "      <th>jp_sales</th>\n",
       "      <th>other_sales</th>\n",
       "      <th>critic_score</th>\n",
       "      <th>user_score</th>\n",
       "      <th>rating</th>\n",
       "      <th>total_sales</th>\n",
       "    </tr>\n",
       "  </thead>\n",
       "  <tbody>\n",
       "    <tr>\n",
       "      <td>0</td>\n",
       "      <td>Wii Sports</td>\n",
       "      <td>Wii</td>\n",
       "      <td>2006</td>\n",
       "      <td>Sports</td>\n",
       "      <td>41.36</td>\n",
       "      <td>28.96</td>\n",
       "      <td>3.77</td>\n",
       "      <td>8.45</td>\n",
       "      <td>76.0</td>\n",
       "      <td>8.0</td>\n",
       "      <td>E</td>\n",
       "      <td>82.54</td>\n",
       "    </tr>\n",
       "    <tr>\n",
       "      <td>1</td>\n",
       "      <td>Super Mario Bros.</td>\n",
       "      <td>NES</td>\n",
       "      <td>1985</td>\n",
       "      <td>Platform</td>\n",
       "      <td>29.08</td>\n",
       "      <td>3.58</td>\n",
       "      <td>6.81</td>\n",
       "      <td>0.77</td>\n",
       "      <td>0.0</td>\n",
       "      <td>0.0</td>\n",
       "      <td></td>\n",
       "      <td>40.24</td>\n",
       "    </tr>\n",
       "    <tr>\n",
       "      <td>2</td>\n",
       "      <td>Mario Kart Wii</td>\n",
       "      <td>Wii</td>\n",
       "      <td>2008</td>\n",
       "      <td>Racing</td>\n",
       "      <td>15.68</td>\n",
       "      <td>12.76</td>\n",
       "      <td>3.79</td>\n",
       "      <td>3.29</td>\n",
       "      <td>82.0</td>\n",
       "      <td>8.3</td>\n",
       "      <td>E</td>\n",
       "      <td>35.52</td>\n",
       "    </tr>\n",
       "    <tr>\n",
       "      <td>3</td>\n",
       "      <td>Wii Sports Resort</td>\n",
       "      <td>Wii</td>\n",
       "      <td>2009</td>\n",
       "      <td>Sports</td>\n",
       "      <td>15.61</td>\n",
       "      <td>10.93</td>\n",
       "      <td>3.28</td>\n",
       "      <td>2.95</td>\n",
       "      <td>80.0</td>\n",
       "      <td>8.0</td>\n",
       "      <td>E</td>\n",
       "      <td>32.77</td>\n",
       "    </tr>\n",
       "    <tr>\n",
       "      <td>4</td>\n",
       "      <td>Pokemon Red/Pokemon Blue</td>\n",
       "      <td>GB</td>\n",
       "      <td>1996</td>\n",
       "      <td>Role-Playing</td>\n",
       "      <td>11.27</td>\n",
       "      <td>8.89</td>\n",
       "      <td>10.22</td>\n",
       "      <td>1.00</td>\n",
       "      <td>0.0</td>\n",
       "      <td>0.0</td>\n",
       "      <td></td>\n",
       "      <td>31.38</td>\n",
       "    </tr>\n",
       "    <tr>\n",
       "      <td>...</td>\n",
       "      <td>...</td>\n",
       "      <td>...</td>\n",
       "      <td>...</td>\n",
       "      <td>...</td>\n",
       "      <td>...</td>\n",
       "      <td>...</td>\n",
       "      <td>...</td>\n",
       "      <td>...</td>\n",
       "      <td>...</td>\n",
       "      <td>...</td>\n",
       "      <td>...</td>\n",
       "      <td>...</td>\n",
       "    </tr>\n",
       "    <tr>\n",
       "      <td>16710</td>\n",
       "      <td>Samurai Warriors: Sanada Maru</td>\n",
       "      <td>PS3</td>\n",
       "      <td>2016</td>\n",
       "      <td>Action</td>\n",
       "      <td>0.00</td>\n",
       "      <td>0.00</td>\n",
       "      <td>0.01</td>\n",
       "      <td>0.00</td>\n",
       "      <td>0.0</td>\n",
       "      <td>0.0</td>\n",
       "      <td></td>\n",
       "      <td>0.01</td>\n",
       "    </tr>\n",
       "    <tr>\n",
       "      <td>16711</td>\n",
       "      <td>LMA Manager 2007</td>\n",
       "      <td>X360</td>\n",
       "      <td>2006</td>\n",
       "      <td>Sports</td>\n",
       "      <td>0.00</td>\n",
       "      <td>0.01</td>\n",
       "      <td>0.00</td>\n",
       "      <td>0.00</td>\n",
       "      <td>0.0</td>\n",
       "      <td>0.0</td>\n",
       "      <td></td>\n",
       "      <td>0.01</td>\n",
       "    </tr>\n",
       "    <tr>\n",
       "      <td>16712</td>\n",
       "      <td>Haitaka no Psychedelica</td>\n",
       "      <td>PSV</td>\n",
       "      <td>2016</td>\n",
       "      <td>Adventure</td>\n",
       "      <td>0.00</td>\n",
       "      <td>0.00</td>\n",
       "      <td>0.01</td>\n",
       "      <td>0.00</td>\n",
       "      <td>0.0</td>\n",
       "      <td>0.0</td>\n",
       "      <td></td>\n",
       "      <td>0.01</td>\n",
       "    </tr>\n",
       "    <tr>\n",
       "      <td>16713</td>\n",
       "      <td>Spirits &amp; Spells</td>\n",
       "      <td>GBA</td>\n",
       "      <td>2003</td>\n",
       "      <td>Platform</td>\n",
       "      <td>0.01</td>\n",
       "      <td>0.00</td>\n",
       "      <td>0.00</td>\n",
       "      <td>0.00</td>\n",
       "      <td>0.0</td>\n",
       "      <td>0.0</td>\n",
       "      <td></td>\n",
       "      <td>0.01</td>\n",
       "    </tr>\n",
       "    <tr>\n",
       "      <td>16714</td>\n",
       "      <td>Winning Post 8 2016</td>\n",
       "      <td>PSV</td>\n",
       "      <td>2016</td>\n",
       "      <td>Simulation</td>\n",
       "      <td>0.00</td>\n",
       "      <td>0.00</td>\n",
       "      <td>0.01</td>\n",
       "      <td>0.00</td>\n",
       "      <td>0.0</td>\n",
       "      <td>0.0</td>\n",
       "      <td></td>\n",
       "      <td>0.01</td>\n",
       "    </tr>\n",
       "  </tbody>\n",
       "</table>\n",
       "<p>16713 rows × 12 columns</p>\n",
       "</div>"
      ],
      "text/plain": [
       "                                name platform  year_of_release         genre  \\\n",
       "0                         Wii Sports      Wii             2006        Sports   \n",
       "1                  Super Mario Bros.      NES             1985      Platform   \n",
       "2                     Mario Kart Wii      Wii             2008        Racing   \n",
       "3                  Wii Sports Resort      Wii             2009        Sports   \n",
       "4           Pokemon Red/Pokemon Blue       GB             1996  Role-Playing   \n",
       "...                              ...      ...              ...           ...   \n",
       "16710  Samurai Warriors: Sanada Maru      PS3             2016        Action   \n",
       "16711               LMA Manager 2007     X360             2006        Sports   \n",
       "16712        Haitaka no Psychedelica      PSV             2016     Adventure   \n",
       "16713               Spirits & Spells      GBA             2003      Platform   \n",
       "16714            Winning Post 8 2016      PSV             2016    Simulation   \n",
       "\n",
       "       na_sales  eu_sales  jp_sales  other_sales  critic_score  user_score  \\\n",
       "0         41.36     28.96      3.77         8.45          76.0         8.0   \n",
       "1         29.08      3.58      6.81         0.77           0.0         0.0   \n",
       "2         15.68     12.76      3.79         3.29          82.0         8.3   \n",
       "3         15.61     10.93      3.28         2.95          80.0         8.0   \n",
       "4         11.27      8.89     10.22         1.00           0.0         0.0   \n",
       "...         ...       ...       ...          ...           ...         ...   \n",
       "16710      0.00      0.00      0.01         0.00           0.0         0.0   \n",
       "16711      0.00      0.01      0.00         0.00           0.0         0.0   \n",
       "16712      0.00      0.00      0.01         0.00           0.0         0.0   \n",
       "16713      0.01      0.00      0.00         0.00           0.0         0.0   \n",
       "16714      0.00      0.00      0.01         0.00           0.0         0.0   \n",
       "\n",
       "      rating  total_sales  \n",
       "0          E        82.54  \n",
       "1                   40.24  \n",
       "2          E        35.52  \n",
       "3          E        32.77  \n",
       "4                   31.38  \n",
       "...      ...          ...  \n",
       "16710                0.01  \n",
       "16711                0.01  \n",
       "16712                0.01  \n",
       "16713                0.01  \n",
       "16714                0.01  \n",
       "\n",
       "[16713 rows x 12 columns]"
      ]
     },
     "execution_count": 8,
     "metadata": {},
     "output_type": "execute_result"
    }
   ],
   "source": [
    "#Calculate total sales for each game\n",
    "game_data['total_sales'] = game_data['na_sales'] + game_data['eu_sales'] + game_data['jp_sales'] + game_data['other_sales']\n",
    "\n",
    "#View changes\n",
    "game_data"
   ]
  },
  {
   "cell_type": "markdown",
   "metadata": {},
   "source": [
    "# Step 3. Analyze the data"
   ]
  },
  {
   "cell_type": "code",
   "execution_count": 9,
   "metadata": {},
   "outputs": [
    {
     "data": {
      "text/plain": [
       "<matplotlib.axes._subplots.AxesSubplot at 0x7f3aff42ad90>"
      ]
     },
     "execution_count": 9,
     "metadata": {},
     "output_type": "execute_result"
    },
    {
     "data": {
      "image/png": "[encoded data removed]",
      "text/plain": [
       "<Figure size 432x288 with 1 Axes>"
      ]
     },
     "metadata": {
      "needs_background": "light"
     },
     "output_type": "display_data"
    }
   ],
   "source": [
    "#Look at how many games were released in different years. Is the data for every period significant?\n",
    "game_data['year_of_release'].hist(bins=70, range=(1980,2020))"
   ]
  },
  {
   "cell_type": "markdown",
   "metadata": {},
   "source": [
    "<div class=\"alert alert-warning\" role=\"alert\">\n",
    "In this case better to use barplot because histogram aggregates data by bins, not by index values. You can see the picture on the histogram but the barplot here is more informative. Also using figsize parameter makes your chart bit nicer. Compare with the next plot.</div>\n"
   ]
  },
  {
   "cell_type": "code",
   "execution_count": 25,
   "metadata": {},
   "outputs": [
    {
     "data": {
      "text/plain": [
       "<matplotlib.axes._subplots.AxesSubplot at 0x7f3afbb6dfd0>"
      ]
     },
     "execution_count": 25,
     "metadata": {},
     "output_type": "execute_result"
    },
    {
     "data": {
      "image/png": "[encoded data removed]",
      "text/plain": [
       "<Figure size 1152x360 with 1 Axes>"
      ]
     },
     "metadata": {
      "needs_background": "light"
     },
     "output_type": "display_data"
    }
   ],
   "source": [
    "# reviewer's code\n",
    "\n",
    "game_data['year_of_release'].value_counts().sort_index().plot(kind='bar', figsize=(16,5))"
   ]
  },
  {
   "cell_type": "markdown",
   "metadata": {},
   "source": [
    "Examining the data for game releases by year shows that there is a significant increase around 2005 - 2010."
   ]
  },
  {
   "cell_type": "code",
   "execution_count": 26,
   "metadata": {},
   "outputs": [
    {
     "name": "stdout",
     "output_type": "stream",
     "text": [
      "          total_sales\n",
      "platform             \n",
      "PS2           1255.77\n",
      "X360           971.42\n",
      "PS3            939.65\n",
      "Wii            907.51\n",
      "DS             806.12\n",
      "PS             730.86\n",
      "GBA            317.85\n",
      "PS4            314.14\n",
      "PSP            294.05\n",
      "PC             259.52\n",
      "3DS            259.00\n",
      "XB             257.74\n",
      "GB             255.46\n",
      "NES            251.05\n",
      "N64            218.68\n",
      "SNES           200.04\n",
      "GC             198.93\n",
      "XOne           159.32\n",
      "2600            96.98\n",
      "WiiU            82.19\n",
      "PSV             54.07\n",
      "SAT             33.59\n",
      "GEN             28.35\n",
      "DC              15.95\n",
      "SCD              1.86\n",
      "NG               1.44\n",
      "WS               1.42\n",
      "TG16             0.16\n",
      "3DO              0.10\n",
      "GG               0.04\n",
      "PCFX             0.03\n"
     ]
    }
   ],
   "source": [
    "#Look at how sales varied from platform to platform. \n",
    "sales_per_platform = game_data.pivot_table(index= 'platform', values= 'total_sales', aggfunc= 'sum')\n",
    "print(sales_per_platform.sort_values(by='total_sales', ascending= False))"
   ]
  },
  {
   "cell_type": "code",
   "execution_count": 27,
   "metadata": {},
   "outputs": [
    {
     "data": {
      "text/plain": [
       "<matplotlib.axes._subplots.AxesSubplot at 0x7f3afb6d0750>"
      ]
     },
     "execution_count": 27,
     "metadata": {},
     "output_type": "execute_result"
    },
    {
     "data": {
      "image/png": "[encoded data removed]",
      "text/plain": [
       "<Figure size 432x288 with 1 Axes>"
      ]
     },
     "metadata": {
      "needs_background": "light"
     },
     "output_type": "display_data"
    },
    {
     "data": {
      "image/png": "[encoded data removed]",
      "text/plain": [
       "<Figure size 432x288 with 1 Axes>"
      ]
     },
     "metadata": {
      "needs_background": "light"
     },
     "output_type": "display_data"
    },
    {
     "data": {
      "image/png": "[encoded data removed]",
      "text/plain": [
       "<Figure size 432x288 with 1 Axes>"
      ]
     },
     "metadata": {
      "needs_background": "light"
     },
     "output_type": "display_data"
    },
    {
     "data": {
      "image/png": "[encoded data removed]",
      "text/plain": [
       "<Figure size 432x288 with 1 Axes>"
      ]
     },
     "metadata": {
      "needs_background": "light"
     },
     "output_type": "display_data"
    }
   ],
   "source": [
    "#Choose the platforms with the greatest total sales and build a distribution based on data for each year. \n",
    "ps2 = game_data.query('platform == \"PS2\" and year_of_release > 0')\n",
    "ps2.pivot_table(index= 'year_of_release', values= 'total_sales', aggfunc= 'sum').plot(style= 'o-', \n",
    "                                                                                      title= 'ps2',\n",
    "                                                                                     xlim= [1995, 2017])\n",
    "\n",
    "x360 = game_data.query('platform == \"X360\" and year_of_release > 0')\n",
    "x360.pivot_table(index= 'year_of_release', values= 'total_sales', aggfunc= 'sum').plot(style= 'o-', \n",
    "                                                                                       title= 'x360',\n",
    "                                                                                      xlim= [1995, 2017])\n",
    "ps3 = game_data.query('platform == \"PS3\" and year_of_release > 0')\n",
    "ps3.pivot_table(index= 'year_of_release', values= 'total_sales', aggfunc= 'sum').plot(style= 'o-', \n",
    "                                                                                       title= 'ps3',\n",
    "                                                                                      xlim= [1995, 2017])\n",
    "\n",
    "wii = game_data.query('platform == \"Wii\" and year_of_release > 0')\n",
    "wii.pivot_table(index= 'year_of_release', values= 'total_sales', aggfunc= 'sum').plot(style= 'o-', \n",
    "                                                                                       title= 'wii',\n",
    "                                                                                      xlim= [1995, 2017])"
   ]
  },
  {
   "cell_type": "markdown",
   "metadata": {},
   "source": [
    "<div class=\"alert alert-success\" role=\"alert\">\n",
    "Good graphs</div>"
   ]
  },
  {
   "cell_type": "code",
   "execution_count": 28,
   "metadata": {},
   "outputs": [],
   "source": [
    "#Find platforms that used to be popular but now have zero sales. "
   ]
  },
  {
   "cell_type": "markdown",
   "metadata": {},
   "source": [
    "By analyzing the data of total sales for the ps2, x360 and wii, they were popular at one point, but now have 0 sales"
   ]
  },
  {
   "cell_type": "code",
   "execution_count": 29,
   "metadata": {},
   "outputs": [
    {
     "name": "stdout",
     "output_type": "stream",
     "text": [
      "2600 released games from 1980 to 1989 with a platform lifespan of 10 year(s).\n",
      "3DO released games from 1994 to 1995 with a platform lifespan of 2 year(s).\n",
      "3DS released games from 2011 to 2016 with a platform lifespan of 6 year(s).\n",
      "DC released games from 1998 to 2008 with a platform lifespan of 7 year(s).\n",
      "DS released games from 1985 to 2013 with a platform lifespan of 11 year(s).\n",
      "GB released games from 1988 to 2001 with a platform lifespan of 13 year(s).\n",
      "GBA released games from 2000 to 2007 with a platform lifespan of 8 year(s).\n",
      "GC released games from 2001 to 2007 with a platform lifespan of 7 year(s).\n",
      "GEN released games from 1990 to 1994 with a platform lifespan of 5 year(s).\n",
      "GG released games from 1992 to 1992 with a platform lifespan of 1 year(s).\n",
      "N64 released games from 1996 to 2002 with a platform lifespan of 7 year(s).\n",
      "NES released games from 1983 to 1994 with a platform lifespan of 12 year(s).\n",
      "NG released games from 1993 to 1996 with a platform lifespan of 4 year(s).\n",
      "PC released games from 1985 to 2016 with a platform lifespan of 26 year(s).\n",
      "PCFX released games from 1996 to 1996 with a platform lifespan of 1 year(s).\n",
      "PS released games from 1994 to 2003 with a platform lifespan of 10 year(s).\n",
      "PS2 released games from 2000 to 2011 with a platform lifespan of 12 year(s).\n",
      "PS3 released games from 2006 to 2016 with a platform lifespan of 11 year(s).\n",
      "PS4 released games from 2013 to 2016 with a platform lifespan of 4 year(s).\n",
      "PSP released games from 2004 to 2015 with a platform lifespan of 12 year(s).\n",
      "PSV released games from 2011 to 2016 with a platform lifespan of 6 year(s).\n",
      "SAT released games from 1994 to 1999 with a platform lifespan of 6 year(s).\n",
      "SCD released games from 1993 to 1994 with a platform lifespan of 2 year(s).\n",
      "SNES released games from 1990 to 1999 with a platform lifespan of 10 year(s).\n",
      "TG16 released games from 1995 to 1995 with a platform lifespan of 1 year(s).\n",
      "WS released games from 1999 to 2001 with a platform lifespan of 3 year(s).\n",
      "Wii released games from 2006 to 2016 with a platform lifespan of 11 year(s).\n",
      "WiiU released games from 2012 to 2016 with a platform lifespan of 5 year(s).\n",
      "X360 released games from 2005 to 2016 with a platform lifespan of 12 year(s).\n",
      "XB released games from 2000 to 2008 with a platform lifespan of 9 year(s).\n",
      "XOne released games from 2013 to 2016 with a platform lifespan of 4 year(s).\n"
     ]
    }
   ],
   "source": [
    "#How long does it generally take for new platforms to appear and old ones to fade?\n",
    "x = game_data.pivot_table(index= ['platform', 'year_of_release'], values= 'total_sales', aggfunc= 'sum')\n",
    "x = x.reset_index()\n",
    "x = x.query('year_of_release > 0')\n",
    "for plfm in x['platform'].unique():\n",
    "    y = x.query('platform == @plfm')\n",
    "    print(plfm, 'released games from', y['year_of_release'].min(),'to', y['year_of_release'].max(),\n",
    "         'with a platform lifespan of', len(y['year_of_release']), 'year(s).')\n"
   ]
  },
  {
   "cell_type": "markdown",
   "metadata": {},
   "source": [
    "<div class=\"alert alert-success\" role=\"alert\">\n",
    "Great table very informative.</div>"
   ]
  },
  {
   "cell_type": "markdown",
   "metadata": {},
   "source": [
    "By analysing the data of when a platform has sales of its games, a platform generally lasts about 6 years and a new platform appears every other year."
   ]
  },
  {
   "cell_type": "markdown",
   "metadata": {},
   "source": [
    "Determine what period you should take data for. To do so, look at your answers to the previous questions. The data should allow you to build a prognosis for 2017.\n",
    "Work only with the data that you've decided is relevant. Disregard the data for previous years."
   ]
  },
  {
   "cell_type": "code",
   "execution_count": 30,
   "metadata": {},
   "outputs": [
    {
     "data": {
      "text/html": [
       "<div>\n",
       "<style scoped>\n",
       "    .dataframe tbody tr th:only-of-type {\n",
       "        vertical-align: middle;\n",
       "    }\n",
       "\n",
       "    .dataframe tbody tr th {\n",
       "        vertical-align: top;\n",
       "    }\n",
       "\n",
       "    .dataframe thead th {\n",
       "        text-align: right;\n",
       "    }\n",
       "</style>\n",
       "<table border=\"1\" class=\"dataframe\">\n",
       "  <thead>\n",
       "    <tr style=\"text-align: right;\">\n",
       "      <th></th>\n",
       "      <th></th>\n",
       "      <th>total_sales</th>\n",
       "    </tr>\n",
       "    <tr>\n",
       "      <th>platform</th>\n",
       "      <th>year_of_release</th>\n",
       "      <th></th>\n",
       "    </tr>\n",
       "  </thead>\n",
       "  <tbody>\n",
       "    <tr>\n",
       "      <td rowspan=\"3\" valign=\"top\">3DS</td>\n",
       "      <td>2014</td>\n",
       "      <td>80</td>\n",
       "    </tr>\n",
       "    <tr>\n",
       "      <td>2015</td>\n",
       "      <td>86</td>\n",
       "    </tr>\n",
       "    <tr>\n",
       "      <td>2016</td>\n",
       "      <td>46</td>\n",
       "    </tr>\n",
       "    <tr>\n",
       "      <td rowspan=\"3\" valign=\"top\">PC</td>\n",
       "      <td>2014</td>\n",
       "      <td>47</td>\n",
       "    </tr>\n",
       "    <tr>\n",
       "      <td>2015</td>\n",
       "      <td>50</td>\n",
       "    </tr>\n",
       "    <tr>\n",
       "      <td>2016</td>\n",
       "      <td>54</td>\n",
       "    </tr>\n",
       "    <tr>\n",
       "      <td rowspan=\"3\" valign=\"top\">PS3</td>\n",
       "      <td>2014</td>\n",
       "      <td>108</td>\n",
       "    </tr>\n",
       "    <tr>\n",
       "      <td>2015</td>\n",
       "      <td>73</td>\n",
       "    </tr>\n",
       "    <tr>\n",
       "      <td>2016</td>\n",
       "      <td>38</td>\n",
       "    </tr>\n",
       "    <tr>\n",
       "      <td rowspan=\"3\" valign=\"top\">PS4</td>\n",
       "      <td>2014</td>\n",
       "      <td>75</td>\n",
       "    </tr>\n",
       "    <tr>\n",
       "      <td>2015</td>\n",
       "      <td>137</td>\n",
       "    </tr>\n",
       "    <tr>\n",
       "      <td>2016</td>\n",
       "      <td>164</td>\n",
       "    </tr>\n",
       "    <tr>\n",
       "      <td rowspan=\"2\" valign=\"top\">PSP</td>\n",
       "      <td>2014</td>\n",
       "      <td>10</td>\n",
       "    </tr>\n",
       "    <tr>\n",
       "      <td>2015</td>\n",
       "      <td>3</td>\n",
       "    </tr>\n",
       "    <tr>\n",
       "      <td rowspan=\"3\" valign=\"top\">PSV</td>\n",
       "      <td>2014</td>\n",
       "      <td>100</td>\n",
       "    </tr>\n",
       "    <tr>\n",
       "      <td>2015</td>\n",
       "      <td>110</td>\n",
       "    </tr>\n",
       "    <tr>\n",
       "      <td>2016</td>\n",
       "      <td>85</td>\n",
       "    </tr>\n",
       "    <tr>\n",
       "      <td rowspan=\"3\" valign=\"top\">Wii</td>\n",
       "      <td>2014</td>\n",
       "      <td>6</td>\n",
       "    </tr>\n",
       "    <tr>\n",
       "      <td>2015</td>\n",
       "      <td>4</td>\n",
       "    </tr>\n",
       "    <tr>\n",
       "      <td>2016</td>\n",
       "      <td>1</td>\n",
       "    </tr>\n",
       "    <tr>\n",
       "      <td rowspan=\"3\" valign=\"top\">WiiU</td>\n",
       "      <td>2014</td>\n",
       "      <td>31</td>\n",
       "    </tr>\n",
       "    <tr>\n",
       "      <td>2015</td>\n",
       "      <td>28</td>\n",
       "    </tr>\n",
       "    <tr>\n",
       "      <td>2016</td>\n",
       "      <td>14</td>\n",
       "    </tr>\n",
       "    <tr>\n",
       "      <td rowspan=\"3\" valign=\"top\">X360</td>\n",
       "      <td>2014</td>\n",
       "      <td>63</td>\n",
       "    </tr>\n",
       "    <tr>\n",
       "      <td>2015</td>\n",
       "      <td>35</td>\n",
       "    </tr>\n",
       "    <tr>\n",
       "      <td>2016</td>\n",
       "      <td>13</td>\n",
       "    </tr>\n",
       "    <tr>\n",
       "      <td rowspan=\"3\" valign=\"top\">XOne</td>\n",
       "      <td>2014</td>\n",
       "      <td>61</td>\n",
       "    </tr>\n",
       "    <tr>\n",
       "      <td>2015</td>\n",
       "      <td>80</td>\n",
       "    </tr>\n",
       "    <tr>\n",
       "      <td>2016</td>\n",
       "      <td>87</td>\n",
       "    </tr>\n",
       "  </tbody>\n",
       "</table>\n",
       "</div>"
      ],
      "text/plain": [
       "                          total_sales\n",
       "platform year_of_release             \n",
       "3DS      2014                      80\n",
       "         2015                      86\n",
       "         2016                      46\n",
       "PC       2014                      47\n",
       "         2015                      50\n",
       "         2016                      54\n",
       "PS3      2014                     108\n",
       "         2015                      73\n",
       "         2016                      38\n",
       "PS4      2014                      75\n",
       "         2015                     137\n",
       "         2016                     164\n",
       "PSP      2014                      10\n",
       "         2015                       3\n",
       "PSV      2014                     100\n",
       "         2015                     110\n",
       "         2016                      85\n",
       "Wii      2014                       6\n",
       "         2015                       4\n",
       "         2016                       1\n",
       "WiiU     2014                      31\n",
       "         2015                      28\n",
       "         2016                      14\n",
       "X360     2014                      63\n",
       "         2015                      35\n",
       "         2016                      13\n",
       "XOne     2014                      61\n",
       "         2015                      80\n",
       "         2016                      87"
      ]
     },
     "execution_count": 30,
     "metadata": {},
     "output_type": "execute_result"
    }
   ],
   "source": [
    "#examine the game sales count for each platform past 2014\n",
    "x = game_data.pivot_table(index= ['platform','year_of_release'], values= 'total_sales', aggfunc= 'count')\n",
    "x = x.query('year_of_release >= 2014')\n",
    "x"
   ]
  },
  {
   "cell_type": "markdown",
   "metadata": {},
   "source": [
    "By examining the data, I have decided to only look at data with year_of_release at 2014 or more in order to have the data be relevant to forecasting into 2017. \n",
    "\n",
    "From looking at the trend of these platforms, PC, PS4 and XOne are increasing in sales while PSP, Wii, WiiU and X360 are noticeably dropping in sales. "
   ]
  },
  {
   "cell_type": "markdown",
   "metadata": {},
   "source": [
    "<div class=\"alert alert-warning\" role=\"alert\">\n",
    "It looks like too small time range but it's on you.</div>"
   ]
  },
  {
   "cell_type": "markdown",
   "metadata": {},
   "source": [
    "Build a box plot for the global sales of all games, broken down by platform. Are the differences in sales significant? What about average sales on various platforms? Describe your findings."
   ]
  },
  {
   "cell_type": "code",
   "execution_count": 31,
   "metadata": {},
   "outputs": [
    {
     "data": {
      "text/html": [
       "<div>\n",
       "<style scoped>\n",
       "    .dataframe tbody tr th:only-of-type {\n",
       "        vertical-align: middle;\n",
       "    }\n",
       "\n",
       "    .dataframe tbody tr th {\n",
       "        vertical-align: top;\n",
       "    }\n",
       "\n",
       "    .dataframe thead th {\n",
       "        text-align: right;\n",
       "    }\n",
       "</style>\n",
       "<table border=\"1\" class=\"dataframe\">\n",
       "  <thead>\n",
       "    <tr style=\"text-align: right;\">\n",
       "      <th></th>\n",
       "      <th>total_sales</th>\n",
       "    </tr>\n",
       "    <tr>\n",
       "      <th>platform</th>\n",
       "      <th></th>\n",
       "    </tr>\n",
       "  </thead>\n",
       "  <tbody>\n",
       "    <tr>\n",
       "      <td>3DS</td>\n",
       "      <td>0.408868</td>\n",
       "    </tr>\n",
       "    <tr>\n",
       "      <td>PC</td>\n",
       "      <td>0.179139</td>\n",
       "    </tr>\n",
       "    <tr>\n",
       "      <td>PS3</td>\n",
       "      <td>0.311324</td>\n",
       "    </tr>\n",
       "    <tr>\n",
       "      <td>PS4</td>\n",
       "      <td>0.766356</td>\n",
       "    </tr>\n",
       "    <tr>\n",
       "      <td>PSP</td>\n",
       "      <td>0.027692</td>\n",
       "    </tr>\n",
       "    <tr>\n",
       "      <td>PSV</td>\n",
       "      <td>0.075932</td>\n",
       "    </tr>\n",
       "    <tr>\n",
       "      <td>Wii</td>\n",
       "      <td>0.460909</td>\n",
       "    </tr>\n",
       "    <tr>\n",
       "      <td>WiiU</td>\n",
       "      <td>0.588767</td>\n",
       "    </tr>\n",
       "    <tr>\n",
       "      <td>X360</td>\n",
       "      <td>0.434414</td>\n",
       "    </tr>\n",
       "    <tr>\n",
       "      <td>XOne</td>\n",
       "      <td>0.615614</td>\n",
       "    </tr>\n",
       "  </tbody>\n",
       "</table>\n",
       "</div>"
      ],
      "text/plain": [
       "          total_sales\n",
       "platform             \n",
       "3DS          0.408868\n",
       "PC           0.179139\n",
       "PS3          0.311324\n",
       "PS4          0.766356\n",
       "PSP          0.027692\n",
       "PSV          0.075932\n",
       "Wii          0.460909\n",
       "WiiU         0.588767\n",
       "X360         0.434414\n",
       "XOne         0.615614"
      ]
     },
     "execution_count": 31,
     "metadata": {},
     "output_type": "execute_result"
    },
    {
     "data": {
      "image/png": "[encoded data removed]",
      "text/plain": [
       "<Figure size 432x288 with 1 Axes>"
      ]
     },
     "metadata": {
      "needs_background": "light"
     },
     "output_type": "display_data"
    }
   ],
   "source": [
    "onward_2014 = game_data.query('year_of_release >= 2014')\n",
    "onward_2014.boxplot(by='platform',column= 'total_sales')\n",
    "onward_2014.pivot_table(index= 'platform', values= 'total_sales', aggfunc='mean')"
   ]
  },
  {
   "cell_type": "markdown",
   "metadata": {},
   "source": [
    "After breaking down the global sales by platform, there are noticeable differences in sales, particularly PS4 and 3DS. Average sales on various platforms are generally different as well."
   ]
  },
  {
   "cell_type": "markdown",
   "metadata": {},
   "source": [
    "Take a look at how user and professional reviews affect sales for one popular platform (you choose). Build a scatter plot and calculate the correlation between reviews and sales. Draw conclusions."
   ]
  },
  {
   "cell_type": "code",
   "execution_count": 33,
   "metadata": {},
   "outputs": [
    {
     "name": "stdout",
     "output_type": "stream",
     "text": [
      "The correlation between critic score and total sales: 0.40190287811475334\n",
      "The correlation between user score and total sales: -0.04318585997193634\n"
     ]
    },
    {
     "data": {
      "image/png": "[encoded data removed]",
      "text/plain": [
       "<Figure size 432x288 with 1 Axes>"
      ]
     },
     "metadata": {
      "needs_background": "light"
     },
     "output_type": "display_data"
    },
    {
     "data": {
      "image/png": "[encoded data removed]",
      "text/plain": [
       "<Figure size 432x288 with 1 Axes>"
      ]
     },
     "metadata": {
      "needs_background": "light"
     },
     "output_type": "display_data"
    }
   ],
   "source": [
    "#Choose ps4 to analyze\n",
    "ps4_analysis = onward_2014.query('platform == \"PS4\" and user_score > 0 and critic_score > 0')\n",
    "\n",
    "#Scatter plots for critic and user scores \n",
    "ps4_analysis.plot(x= 'critic_score', y= 'total_sales', grid=True, kind= 'scatter')\n",
    "ps4_analysis.plot(x= 'user_score', y= 'total_sales', grid=True, kind= 'scatter')\n",
    "\n",
    "#Correlation calculation\n",
    "print('The correlation between critic score and total sales:', \n",
    "      ps4_analysis['critic_score'].corr(ps4_analysis['total_sales']))\n",
    "\n",
    "print('The correlation between user score and total sales:', \n",
    "      ps4_analysis['user_score'].corr(ps4_analysis['total_sales']))"
   ]
  },
  {
   "cell_type": "markdown",
   "metadata": {},
   "source": [
    "Analyzing the scatter plots and the correlation between critic/ user score and the total sales seems to show that critic score has more of an influence on the sales than user score."
   ]
  },
  {
   "cell_type": "markdown",
   "metadata": {},
   "source": [
    "Keeping your conclusions in mind, compare the sales of the same games on other platforms."
   ]
  },
  {
   "cell_type": "code",
   "execution_count": 34,
   "metadata": {},
   "outputs": [
    {
     "data": {
      "text/html": [
       "<div>\n",
       "<style scoped>\n",
       "    .dataframe tbody tr th:only-of-type {\n",
       "        vertical-align: middle;\n",
       "    }\n",
       "\n",
       "    .dataframe tbody tr th {\n",
       "        vertical-align: top;\n",
       "    }\n",
       "\n",
       "    .dataframe thead th {\n",
       "        text-align: right;\n",
       "    }\n",
       "</style>\n",
       "<table border=\"1\" class=\"dataframe\">\n",
       "  <thead>\n",
       "    <tr style=\"text-align: right;\">\n",
       "      <th></th>\n",
       "      <th></th>\n",
       "      <th>total_sales</th>\n",
       "    </tr>\n",
       "    <tr>\n",
       "      <th>name</th>\n",
       "      <th>platform</th>\n",
       "      <th></th>\n",
       "    </tr>\n",
       "  </thead>\n",
       "  <tbody>\n",
       "    <tr>\n",
       "      <td rowspan=\"2\" valign=\"top\">2014 FIFA World Cup Brazil</td>\n",
       "      <td>PS3</td>\n",
       "      <td>0.61</td>\n",
       "    </tr>\n",
       "    <tr>\n",
       "      <td>X360</td>\n",
       "      <td>0.43</td>\n",
       "    </tr>\n",
       "    <tr>\n",
       "      <td rowspan=\"2\" valign=\"top\">3rd Super Robot Wars Z Jigoku Hen</td>\n",
       "      <td>PS3</td>\n",
       "      <td>0.23</td>\n",
       "    </tr>\n",
       "    <tr>\n",
       "      <td>PSV</td>\n",
       "      <td>0.19</td>\n",
       "    </tr>\n",
       "    <tr>\n",
       "      <td>3rd Super Robot Wars Z: Tengoku-Hen</td>\n",
       "      <td>PS3</td>\n",
       "      <td>0.15</td>\n",
       "    </tr>\n",
       "    <tr>\n",
       "      <td>...</td>\n",
       "      <td>...</td>\n",
       "      <td>...</td>\n",
       "    </tr>\n",
       "    <tr>\n",
       "      <td>Zero Escape: Zero Time Dilemma</td>\n",
       "      <td>PSV</td>\n",
       "      <td>0.06</td>\n",
       "    </tr>\n",
       "    <tr>\n",
       "      <td rowspan=\"2\" valign=\"top\">ZombiU</td>\n",
       "      <td>PS4</td>\n",
       "      <td>0.06</td>\n",
       "    </tr>\n",
       "    <tr>\n",
       "      <td>XOne</td>\n",
       "      <td>0.01</td>\n",
       "    </tr>\n",
       "    <tr>\n",
       "      <td rowspan=\"2\" valign=\"top\">Zombie Army Trilogy</td>\n",
       "      <td>PS4</td>\n",
       "      <td>0.20</td>\n",
       "    </tr>\n",
       "    <tr>\n",
       "      <td>XOne</td>\n",
       "      <td>0.11</td>\n",
       "    </tr>\n",
       "  </tbody>\n",
       "</table>\n",
       "<p>1101 rows × 1 columns</p>\n",
       "</div>"
      ],
      "text/plain": [
       "                                              total_sales\n",
       "name                                platform             \n",
       "2014 FIFA World Cup Brazil          PS3              0.61\n",
       "                                    X360             0.43\n",
       "3rd Super Robot Wars Z Jigoku Hen   PS3              0.23\n",
       "                                    PSV              0.19\n",
       "3rd Super Robot Wars Z: Tengoku-Hen PS3              0.15\n",
       "...                                                   ...\n",
       "Zero Escape: Zero Time Dilemma      PSV              0.06\n",
       "ZombiU                              PS4              0.06\n",
       "                                    XOne             0.01\n",
       "Zombie Army Trilogy                 PS4              0.20\n",
       "                                    XOne             0.11\n",
       "\n",
       "[1101 rows x 1 columns]"
      ]
     },
     "execution_count": 34,
     "metadata": {},
     "output_type": "execute_result"
    }
   ],
   "source": [
    "#Sort the data by games that are on multiple platforms\n",
    "mult_plfm = onward_2014.groupby('name').filter(lambda x: len(x) > 1)\n",
    "\n",
    "#Sort by platform and total sales\n",
    "x=mult_plfm.pivot_table(index= ['name', 'platform'], values= 'total_sales', aggfunc= 'sum')\n",
    "x \n"
   ]
  },
  {
   "cell_type": "markdown",
   "metadata": {},
   "source": [
    "Examining the data would suggest that sales differ between platforms and generally PS4 being the preferred platform."
   ]
  },
  {
   "cell_type": "markdown",
   "metadata": {},
   "source": [
    "Take a look at the general distribution of games by genre. What can we say about the most profitable genres? Can you generalize about genres with high and low sales?"
   ]
  },
  {
   "cell_type": "code",
   "execution_count": 35,
   "metadata": {},
   "outputs": [
    {
     "data": {
      "text/html": [
       "<div>\n",
       "<style scoped>\n",
       "    .dataframe tbody tr th:only-of-type {\n",
       "        vertical-align: middle;\n",
       "    }\n",
       "\n",
       "    .dataframe tbody tr th {\n",
       "        vertical-align: top;\n",
       "    }\n",
       "\n",
       "    .dataframe thead th {\n",
       "        text-align: right;\n",
       "    }\n",
       "</style>\n",
       "<table border=\"1\" class=\"dataframe\">\n",
       "  <thead>\n",
       "    <tr style=\"text-align: right;\">\n",
       "      <th></th>\n",
       "      <th>total_sales</th>\n",
       "    </tr>\n",
       "    <tr>\n",
       "      <th>genre</th>\n",
       "      <th></th>\n",
       "    </tr>\n",
       "  </thead>\n",
       "  <tbody>\n",
       "    <tr>\n",
       "      <td>Action</td>\n",
       "      <td>199.36</td>\n",
       "    </tr>\n",
       "    <tr>\n",
       "      <td>Shooter</td>\n",
       "      <td>170.94</td>\n",
       "    </tr>\n",
       "    <tr>\n",
       "      <td>Sports</td>\n",
       "      <td>109.48</td>\n",
       "    </tr>\n",
       "    <tr>\n",
       "      <td>Role-Playing</td>\n",
       "      <td>101.44</td>\n",
       "    </tr>\n",
       "    <tr>\n",
       "      <td>Misc</td>\n",
       "      <td>37.55</td>\n",
       "    </tr>\n",
       "    <tr>\n",
       "      <td>Fighting</td>\n",
       "      <td>28.22</td>\n",
       "    </tr>\n",
       "    <tr>\n",
       "      <td>Racing</td>\n",
       "      <td>27.52</td>\n",
       "    </tr>\n",
       "    <tr>\n",
       "      <td>Platform</td>\n",
       "      <td>18.09</td>\n",
       "    </tr>\n",
       "    <tr>\n",
       "      <td>Adventure</td>\n",
       "      <td>17.55</td>\n",
       "    </tr>\n",
       "    <tr>\n",
       "      <td>Simulation</td>\n",
       "      <td>13.13</td>\n",
       "    </tr>\n",
       "    <tr>\n",
       "      <td>Strategy</td>\n",
       "      <td>3.96</td>\n",
       "    </tr>\n",
       "    <tr>\n",
       "      <td>Puzzle</td>\n",
       "      <td>2.21</td>\n",
       "    </tr>\n",
       "  </tbody>\n",
       "</table>\n",
       "</div>"
      ],
      "text/plain": [
       "              total_sales\n",
       "genre                    \n",
       "Action             199.36\n",
       "Shooter            170.94\n",
       "Sports             109.48\n",
       "Role-Playing       101.44\n",
       "Misc                37.55\n",
       "Fighting            28.22\n",
       "Racing              27.52\n",
       "Platform            18.09\n",
       "Adventure           17.55\n",
       "Simulation          13.13\n",
       "Strategy             3.96\n",
       "Puzzle               2.21"
      ]
     },
     "execution_count": 35,
     "metadata": {},
     "output_type": "execute_result"
    }
   ],
   "source": [
    "#Filter the data by genre and total sales to determine which is popular\n",
    "pop_genre = onward_2014.pivot_table(index= 'genre', values= 'total_sales', aggfunc= 'sum')\n",
    "pop_genre.sort_values('total_sales', ascending=False)"
   ]
  },
  {
   "cell_type": "markdown",
   "metadata": {},
   "source": [
    "By analyzing the data by genre and total sales, it would appear that the top 3 genres would be Action, Shooter and Sports and the last 3 genres would be Simulation, Strategy and Puzzle.\n",
    "Genres with high total sales are more likely to be popular in the future and genres with low total sales are less likely to be popular."
   ]
  },
  {
   "cell_type": "markdown",
   "metadata": {},
   "source": [
    "<div class=\"alert alert-success\" role=\"alert\">\n",
    "Overall correct step 3 but adding 3-4 charts illustrating some insights can make it better.</div>"
   ]
  },
  {
   "cell_type": "markdown",
   "metadata": {},
   "source": [
    "# Step 4. Create a user profile for each region"
   ]
  },
  {
   "cell_type": "code",
   "execution_count": 37,
   "metadata": {},
   "outputs": [
    {
     "name": "stdout",
     "output_type": "stream",
     "text": [
      "          na_sales\n",
      "platform          \n",
      "PS4          98.61\n",
      "XOne         81.27\n",
      "X360         28.30\n",
      "3DS          22.64\n",
      "PS3          22.05\n",
      "              na_sales\n",
      "genre                 \n",
      "Shooter          79.02\n",
      "Action           72.53\n",
      "Sports           46.13\n",
      "Role-Playing     33.47\n",
      "Misc             15.05\n",
      "        na_sales\n",
      "rating          \n",
      "M          96.42\n",
      "           64.72\n",
      "E          50.74\n",
      "T          38.95\n",
      "E10+       33.23\n"
     ]
    }
   ],
   "source": [
    "#NA region\n",
    "na_region = onward_2014.query('na_sales > 0')\n",
    "\n",
    "#popular platform\n",
    "pop_plfm_na = na_region.pivot_table(index= 'platform', values= 'na_sales', aggfunc= 'sum')\n",
    "print(pop_plfm_na.sort_values('na_sales', ascending=False).head(5))\n",
    "\n",
    "#popular genre\n",
    "pop_genre_na = na_region.pivot_table(index= 'genre', values= 'na_sales', aggfunc= 'sum')\n",
    "print(pop_genre_na.sort_values('na_sales', ascending=False).head(5))\n",
    "\n",
    "#rating influence\n",
    "rating_na = na_region.pivot_table(index= 'rating', values= 'na_sales', aggfunc= 'sum')\n",
    "print(rating_na.sort_values('na_sales', ascending=False))"
   ]
  },
  {
   "cell_type": "code",
   "execution_count": 38,
   "metadata": {},
   "outputs": [
    {
     "name": "stdout",
     "output_type": "stream",
     "text": [
      "          eu_sales\n",
      "platform          \n",
      "PS4         130.04\n",
      "XOne         46.25\n",
      "PS3          25.54\n",
      "PC           17.97\n",
      "3DS          16.12\n",
      "              eu_sales\n",
      "genre                 \n",
      "Action           74.68\n",
      "Shooter          65.52\n",
      "Sports           45.73\n",
      "Role-Playing     28.17\n",
      "Racing           14.13\n",
      "        eu_sales\n",
      "rating          \n",
      "M          93.44\n",
      "           58.95\n",
      "E          58.06\n",
      "T          34.07\n",
      "E10+       26.16\n"
     ]
    }
   ],
   "source": [
    "#EU region\n",
    "eu_region = onward_2014.query('eu_sales > 0')\n",
    "\n",
    "#popular platform\n",
    "pop_plfm_eu = eu_region.pivot_table(index= 'platform', values= 'eu_sales', aggfunc= 'sum')\n",
    "print(pop_plfm_eu.sort_values('eu_sales', ascending=False).head(5))\n",
    "\n",
    "#popular genre\n",
    "pop_genre_eu = eu_region.pivot_table(index= 'genre', values= 'eu_sales', aggfunc= 'sum')\n",
    "print(pop_genre_eu.sort_values('eu_sales', ascending=False).head(5))\n",
    "\n",
    "#rating influence\n",
    "rating_eu = eu_region.pivot_table(index= 'rating', values= 'eu_sales', aggfunc= 'sum')\n",
    "print(rating_eu.sort_values('eu_sales', ascending=False))"
   ]
  },
  {
   "cell_type": "code",
   "execution_count": 39,
   "metadata": {},
   "outputs": [
    {
     "name": "stdout",
     "output_type": "stream",
     "text": [
      "          jp_sales\n",
      "platform          \n",
      "3DS          44.24\n",
      "PS4          15.02\n",
      "PSV          14.54\n",
      "PS3          11.22\n",
      "WiiU          7.31\n",
      "              jp_sales\n",
      "genre                 \n",
      "Role-Playing     31.16\n",
      "Action           29.58\n",
      "Fighting          6.37\n",
      "Misc              5.61\n",
      "Shooter           4.87\n",
      "        jp_sales\n",
      "rating          \n",
      "           56.90\n",
      "T          14.78\n",
      "E           8.94\n",
      "M           8.01\n",
      "E10+        4.46\n"
     ]
    }
   ],
   "source": [
    "#JP region\n",
    "jp_region = onward_2014.query('jp_sales > 0')\n",
    "\n",
    "#popular platform\n",
    "pop_plfm_jp = jp_region.pivot_table(index= 'platform', values= 'jp_sales', aggfunc= 'sum')\n",
    "print(pop_plfm_jp.sort_values('jp_sales', ascending=False).head(5))\n",
    "\n",
    "#popular genre\n",
    "pop_genre_jp = jp_region.pivot_table(index= 'genre', values= 'jp_sales', aggfunc= 'sum')\n",
    "print(pop_genre_jp.sort_values('jp_sales', ascending=False).head(5))\n",
    "\n",
    "#rating influence\n",
    "rating_jp = jp_region.pivot_table(index= 'rating', values= 'jp_sales', aggfunc= 'sum')\n",
    "print(rating_jp.sort_values('jp_sales', ascending=False))"
   ]
  },
  {
   "cell_type": "markdown",
   "metadata": {},
   "source": [
    "Analyzing the data shows that for all 3 regions, the PS4 does well in sales, but doesn't hold 1st place in jp. The 3ds holds the more platform sales in jp, but only reaches top 5 for na and eu.\n",
    "\n",
    "The top 5 genres are similar for all the regions with action being generally the most popular one. Jp notably prefers rpg games while na and eu prefer shooters.\n",
    "\n",
    "ESRB ratings don't seem to influence sales too much in the regions."
   ]
  },
  {
   "cell_type": "markdown",
   "metadata": {},
   "source": [
    "<div class=\"alert alert-success\" role=\"alert\">\n",
    "Same here. Nice section but visualizations needed.</div>"
   ]
  },
  {
   "cell_type": "markdown",
   "metadata": {},
   "source": [
    "# Step 5. Test the following hypotheses:"
   ]
  },
  {
   "cell_type": "code",
   "execution_count": 41,
   "metadata": {},
   "outputs": [
    {
     "name": "stdout",
     "output_type": "stream",
     "text": [
      "p-value:  0.18534515570132715\n",
      "We can't reject the null hypothesis\n"
     ]
    }
   ],
   "source": [
    "#Test that average user ratings of the Xbox One and PC platforms are the same.\n",
    "xbox1_only = onward_2014.query('platform == \"XOne\"')\n",
    "pc_only = onward_2014.query('platform == \"PC\"')\n",
    "\n",
    "#Calculate average user ratings for xbox1\n",
    "xbox1_avg_rating = xbox1_only['user_score'].mean()\n",
    "\n",
    "alpha = 0.05\n",
    "\n",
    "results = st.ttest_1samp(pc_only['user_score'], xbox1_avg_rating)\n",
    "\n",
    "print('p-value: ', results.pvalue)\n",
    "\n",
    "if (results.pvalue < alpha ):\n",
    "    print(\"We reject the null hypothesis\")\n",
    "else:\n",
    "    print(\"We can't reject the null hypothesis\")"
   ]
  },
  {
   "cell_type": "markdown",
   "metadata": {},
   "source": [
    "I chose alpha to be 0.05 since that amount is widely considered to be a good statistically significant amount. After running a p-value test, it suggests that the average user ratings for the Xbox One and PC are the same."
   ]
  },
  {
   "cell_type": "markdown",
   "metadata": {},
   "source": [
    "<div class=\"alert alert-danger\" role=\"alert\">\n",
    "<s>Your code is correct but conclusion not. It is better to explicitly formulate H0 - null hypothesis and H1 - an alternate hypothesis. And it is important to remember that the null hypothesis is always about equality. Please have a look at this lesson again.</s></div>\n",
    "\n",
    "<div class=\"alert alert-success\" role=\"alert\">\n",
    "Fixed</div>\n",
    "\n",
    "https://practicum.yandex.com/learn/data-analyst/courses/aed20431-4a4f-4c1f-832d-6cd1fc30b27f/sprints/1735/topics/aa1888cb-dbce-4be5-bd3c-a100286f41df/lessons/f91586fd-ed44-4779-b2f5-94579ecb4796/\n",
    "\n",
    "Also good article about hypotheses: https://www.investopedia.com/terms/n/null_hypothesis.asp\n",
    "\n",
    "---"
   ]
  },
  {
   "cell_type": "code",
   "execution_count": 23,
   "metadata": {},
   "outputs": [
    {
     "name": "stdout",
     "output_type": "stream",
     "text": [
      "p-value:  5.9296897511671804e-05\n",
      "We reject the null hypothesis\n"
     ]
    }
   ],
   "source": [
    "#Average user ratings for the Action and Sports genres are the same.\n",
    "action = onward_2014.query('genre == \"Action\"')\n",
    "sports = onward_2014.query('genre == \"Sports\"')\n",
    "\n",
    "#Calculate average user ratings for action\n",
    "action_avg_rating = action['user_score'].mean()\n",
    "\n",
    "alpha = 0.05\n",
    "\n",
    "results = st.ttest_1samp(sports['user_score'], action_avg_rating)\n",
    "\n",
    "print('p-value: ', results.pvalue)\n",
    "\n",
    "if (results.pvalue < alpha ):\n",
    "    print(\"We reject the null hypothesis\")\n",
    "else:\n",
    "    print(\"We can't reject the null hypothesis\")"
   ]
  },
  {
   "cell_type": "markdown",
   "metadata": {},
   "source": [
    "I chose alpha to be 0.05 since that amount is widely considered to be a good statistically significant amount. After running a p-value test, it suggests that the average user ratings for Action and Sports genre are different. "
   ]
  },
  {
   "cell_type": "markdown",
   "metadata": {},
   "source": [
    "<div class=\"alert alert-success\" role=\"alert\">\n",
    "Everything is correct here.</div>"
   ]
  },
  {
   "cell_type": "markdown",
   "metadata": {},
   "source": [
    "# Step 6. Write a general conclusion"
   ]
  },
  {
   "cell_type": "markdown",
   "metadata": {},
   "source": [
    "After analyzing the data and making multiple conclusions, the data shows that generally NA and EU share similar tastes in genre of games and platform preference while JP's audience tends to differ for genre and platform choice. To create an effective campaign for each region, examining which are the popular genre and platform for each region would be best."
   ]
  },
  {
   "cell_type": "code",
   "execution_count": null,
   "metadata": {},
   "outputs": [],
   "source": []
  }
 ],
 "metadata": {
  "kernelspec": {
   "display_name": "Python 3",
   "language": "python",
   "name": "python3"
  },
  "language_info": {
   "codemirror_mode": {
    "name": "ipython",
    "version": 3
   },
   "file_extension": ".py",
   "mimetype": "text/x-python",
   "name": "python",
   "nbconvert_exporter": "python",
   "pygments_lexer": "ipython3",
   "version": "3.7.8"
  },
  "toc": {
   "base_numbering": 1,
   "nav_menu": {},
   "number_sections": true,
   "sideBar": true,
   "skip_h1_title": true,
   "title_cell": "Table of Contents",
   "title_sidebar": "Contents",
   "toc_cell": false,
   "toc_position": {},
   "toc_section_display": true,
   "toc_window_display": false
  }
 },
 "nbformat": 4,
 "nbformat_minor": 2
}
